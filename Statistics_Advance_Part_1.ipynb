{
  "nbformat": 4,
  "nbformat_minor": 0,
  "metadata": {
    "colab": {
      "provenance": []
    },
    "kernelspec": {
      "name": "python3",
      "display_name": "Python 3"
    },
    "language_info": {
      "name": "python"
    }
  },
  "cells": [
    {
      "cell_type": "markdown",
      "source": [
        "1. What is a random variable in probability theory?\n",
        "ans>> A random variable in probability theory is a variable that takes on numerical values determined by the outcome of a random phenomenon.\n"
      ],
      "metadata": {
        "id": "Lc0_u1e-1gVg"
      }
    },
    {
      "cell_type": "markdown",
      "source": [
        "2.  What are the types of random variables?\n",
        "ans>> The types of random variables are:\n",
        "\n",
        "1.**Discrete Random Variable** – Takes on a countable number of distinct values.\n",
        "2.**Continuous Random Variable** – Takes on an infinite number of possible values within a given range.\n"
      ],
      "metadata": {
        "id": "WKtnwNCh3jCA"
      }
    },
    {
      "cell_type": "markdown",
      "source": [
        "3. What is the difference between discrete and continuous distributions?\n",
        "ans>> The difference between discrete and continuous distributions is:\n",
        "\n",
        "* **Discrete Distribution** describes the probability of outcomes of a discrete random variable (e.g., number of heads in coin tosses).\n",
        "* **Continuous Distribution** describes the probability of outcomes of a continuous random variable (e.g., height, weight), where probabilities are given over intervals, not exact values.\n"
      ],
      "metadata": {
        "id": "euPJPlt738J_"
      }
    },
    {
      "cell_type": "markdown",
      "source": [
        "4. What are probability distribution functions (PDF)?\n",
        "ans>> Probability Distribution Functions (PDF) describe how probabilities are distributed over the values of a random variable.\n",
        "\n",
        "* For a **discrete random variable**, it's called the **Probability Mass Function (PMF)**, which gives the probability of each possible value.\n",
        "* For a **continuous random variable**, it's the **Probability Density Function (PDF)**, which defines the likelihood of the variable falling within a range of values (area under the curve represents probability).\n"
      ],
      "metadata": {
        "id": "9cyi6SjN4K8f"
      }
    },
    {
      "cell_type": "markdown",
      "source": [
        "5. How do cumulative distribution functions (CDF) differ from probability distribution functions (PDF)?\n",
        "ans>> Your explanation is correct and well-written. It clearly distinguishes between:\n",
        "\n",
        "* **PMF** for discrete random variables\n",
        "* **PDF** for continuous random variables\n",
        "\n",
        "And accurately notes that in the continuous case, the **area under the curve** gives the probability over an interval. Nicely done!\n"
      ],
      "metadata": {
        "id": "qyZfsX-24hIw"
      }
    },
    {
      "cell_type": "markdown",
      "source": [
        "6. What is a discrete uniform distribution?\n",
        "ans>> A **discrete uniform distribution** is a probability distribution where a finite number of outcomes are **equally likely** to occur.\n",
        "\n",
        "Each outcome has the same probability, given by:\n",
        "\n",
        "$$\n",
        "P(X = x) = \\frac{1}{n}\n",
        "$$\n",
        "\n",
        "where $n$ is the total number of possible outcomes.\n",
        "\n",
        "**Example:** Rolling a fair six-sided die — each face (1 to 6) has a probability of $\\frac{1}{6}$.\n"
      ],
      "metadata": {
        "id": "G-GmJUpR4xvf"
      }
    },
    {
      "cell_type": "markdown",
      "source": [
        "7. What are the key properties of a Bernoulli distribution?\n",
        "ans>> The key properties of a **Bernoulli distribution** are:\n",
        "\n",
        "1.**Two possible outcomes**: Success (1) and Failure (0).\n",
        "2.**Single trial**: Represents the outcome of one experiment.\n",
        "3.**Probability of success (p)**: $0 \\leq p \\leq 1$; probability of failure is $1 - p$.\n",
        "4.**Mean (Expected value)**: $E(X) = p$.\n",
        "5.**Variance**: $\\text{Var}(X) = p(1 - p)$.\n"
      ],
      "metadata": {
        "id": "2KgHAVNN5irG"
      }
    },
    {
      "cell_type": "markdown",
      "source": [
        "8. The **binomial distribution** is a discrete probability distribution that models the number of **successes** in a fixed number of **independent Bernoulli trials**, each with the same probability of success.\n",
        "\n",
        "It is used in probability to calculate the likelihood of getting exactly $k$ successes in $n$ trials.\n",
        "\n",
        "**Probability formula:**\n",
        "\n",
        "$$\n",
        "P(X = k) = \\binom{n}{k} p^k (1 - p)^{n - k}\n",
        "$$\n",
        "\n",
        "where:\n",
        "\n",
        "* $n$ = number of trials\n",
        "* $k$ = number of successes\n",
        "* $p$ = probability of success\n",
        "* $\\binom{n}{k}$ = combinations of $k$ successes in $n$ trials\n",
        "\n",
        "**Example:** Probability of getting 3 heads in 5 fair coin tosses.\n"
      ],
      "metadata": {
        "id": "qiV-nB5i50-G"
      }
    },
    {
      "cell_type": "markdown",
      "source": [
        "9. What is the Poisson distribution and where is it applied?\n",
        "ans>> The **Poisson distribution** is a discrete probability distribution that models the number of times an event occurs in a fixed interval of time or space, given the events occur **independently** and at a **constant average rate** $\\lambda$.\n",
        "\n",
        "**Probability formula:**\n",
        "\n",
        "$$\n",
        "P(X = k) = \\frac{e^{-\\lambda} \\lambda^k}{k!}\n",
        "$$\n",
        "\n",
        "where:\n",
        "\n",
        "* $\\lambda$ = average rate of occurrence\n",
        "* $k$ = number of occurrences\n",
        "* $e$ ≈ 2.718 (Euler’s number)\n",
        "\n",
        "**Applications:**\n",
        "\n",
        "* Number of customer arrivals at a store per hour\n",
        "* Number of phone calls received by a call center in a day\n",
        "* Number of typing errors per page in a book\n"
      ],
      "metadata": {
        "id": "uQ4sjCP459e2"
      }
    },
    {
      "cell_type": "markdown",
      "source": [
        "10. What is a continuous uniform distribution?\n",
        "ans>> A **continuous uniform distribution** is a probability distribution where all values within a given interval $[a, b]$ are **equally likely** to occur.\n",
        "\n",
        "**Probability Density Function (PDF):**\n",
        "\n",
        "$$\n",
        "f(x) = \\frac{1}{b - a} \\quad \\text{for } a \\leq x \\leq b\n",
        "$$\n",
        "\n",
        "**Key properties:**\n",
        "\n",
        "* Mean: $\\mu = \\frac{a + b}{2}$\n",
        "* Variance: $\\sigma^2 = \\frac{(b - a)^2}{12}$\n",
        "\n",
        "**Example:** Time taken for a bus to arrive uniformly between 10 and 20 minutes.\n"
      ],
      "metadata": {
        "id": "VHvTvBPD6WYn"
      }
    },
    {
      "cell_type": "markdown",
      "source": [
        "11. What are the characteristics of a normal distribution?\n",
        "ans>> The **characteristics of a normal distribution** are:\n",
        "\n",
        "1.**Bell-shaped curve** – Symmetrical about the mean.\n",
        "2.**Mean = Median = Mode** – All are located at the center.\n",
        "3.**Defined by two parameters** – Mean $\\mu$ and standard deviation $\\sigma$.\n",
        "4.**Empirical Rule** (68-95-99.7 Rule):\n",
        "\n",
        "   * \\~68% of data within $\\mu \\pm 1\\sigma$\n",
        "   * \\~95% within $\\mu \\pm 2\\sigma$\n",
        "   * \\~99.7% within $\\mu \\pm 3\\sigma$\n",
        "5.**Asymptotic** – Tails approach but never touch the x-axis.\n",
        "6.**Total area under the curve** is 1 (represents total probability).\n"
      ],
      "metadata": {
        "id": "-VxhRd4t6lIX"
      }
    },
    {
      "cell_type": "markdown",
      "source": [
        "12. What is the standard normal distribution, and why is it important?\n",
        "ans>> The **standard normal distribution** is a special case of the normal distribution with:\n",
        "\n",
        "* **Mean (μ) = 0**\n",
        "* **Standard deviation (σ) = 1**\n",
        "\n",
        "It is important because:\n",
        "\n",
        "1.**Simplifies calculations** – Probabilities and percentiles can be easily found using standard normal (Z) tables.\n",
        "2.**Basis for Z-scores** – Converts any normal variable to standard form:\n",
        "\n",
        "   $$\n",
        "   Z = \\frac{X - \\mu}{\\sigma}\n",
        "   $$\n",
        "3.**Used in statistical methods** – Including hypothesis testing, confidence intervals, and control charts.\n"
      ],
      "metadata": {
        "id": "SaVDIvp36xCm"
      }
    },
    {
      "cell_type": "markdown",
      "source": [
        "13. What is the Central Limit Theorem (CLT), and why is it critical in statistics?\n",
        "ans>> The **Central Limit Theorem (CLT)** states that the **sampling distribution** of the sample mean (or sum) approaches a **normal distribution** as the **sample size increases**, regardless of the population's original distribution, **provided the samples are independent and identically distributed**.\n",
        "\n",
        "### Why it’s critical in statistics:\n",
        "\n",
        "1. **Enables normal approximation** – Makes it possible to use normal distribution tools even for non-normal populations.\n",
        "2. **Foundation for inference** – Underpins confidence intervals and hypothesis testing.\n",
        "3. **Applies to many real-world problems** – Especially when dealing with averages or totals from large samples.\n"
      ],
      "metadata": {
        "id": "WkVMKi3v7KJW"
      }
    },
    {
      "cell_type": "markdown",
      "source": [
        "14. How does the Central Limit Theorem relate to the normal distribution?\n",
        "ans>> The **Central Limit Theorem (CLT)** relates to the **normal distribution** by stating that:\n",
        "\n",
        "* As the **sample size increases**, the **distribution of the sample mean** (or sum) will **approach a normal distribution**, **even if the original population is not normally distributed**.\n",
        "\n",
        "### Key connection:\n",
        "\n",
        "* CLT **justifies the use of the normal distribution** in many statistical procedures (e.g., confidence intervals, hypothesis tests), especially when dealing with **large samples**.\n",
        "* It explains why the **normal distribution appears so frequently** in real-world data analysis.\n"
      ],
      "metadata": {
        "id": "ZYAZpbZF7d8-"
      }
    },
    {
      "cell_type": "markdown",
      "source": [
        "15. What is the application of Z statistics in hypothesis testing?\n",
        "ans>> **Z statistics** are used in hypothesis testing to determine how far a sample statistic (like the sample mean) is from the population parameter, in terms of **standard deviations**.\n",
        "\n",
        "### Applications in hypothesis testing:\n",
        "\n",
        "1.**Testing population means** (when population standard deviation is known and sample size is large):\n",
        "\n",
        "   $$\n",
        "   Z = \\frac{\\bar{X} - \\mu}{\\sigma / \\sqrt{n}}\n",
        "   $$\n",
        "\n",
        "2.**Testing population proportions**:\n",
        "\n",
        "   $$\n",
        "   Z = \\frac{\\hat{p} - p}{\\sqrt{p(1 - p)/n}}\n",
        "   $$\n",
        "\n",
        "3.**Comparing two means or proportions** (with known or large samples).\n",
        "\n",
        "### Purpose:\n",
        "\n",
        "* **Compare** the computed Z-value to a critical value from the Z-distribution.\n",
        "* **Decide** whether to **reject or fail to reject the null hypothesis** based on the p-value or critical region.\n"
      ],
      "metadata": {
        "id": "Sgwt_56m7qmG"
      }
    },
    {
      "cell_type": "markdown",
      "source": [
        "16. How do you calculate a Z-score, and what does it represent?\n",
        "ans>> ### **How to calculate a Z-score:**\n",
        "\n",
        "$$\n",
        "Z = \\frac{X - \\mu}{\\sigma}\n",
        "$$\n",
        "\n",
        "Where:\n",
        "\n",
        "* $X$ = individual data point\n",
        "* $\\mu$ = population mean\n",
        "* $\\sigma$ = population standard deviation\n",
        "\n",
        "---\n",
        "\n",
        "### **What it represents:**\n",
        "\n",
        "A **Z-score** indicates **how many standard deviations** a data point $X$ is from the mean.\n",
        "\n",
        "* **Positive Z-score**: $X$ is above the mean\n",
        "* **Negative Z-score**: $X$ is below the mean\n",
        "* **Z = 0**: $X$ is exactly at the mean\n",
        "\n",
        "It helps standardize values for comparison and is used in probability calculations and hypothesis testing.\n"
      ],
      "metadata": {
        "id": "fwvmwlJ276Ce"
      }
    },
    {
      "cell_type": "markdown",
      "source": [
        "17. What are point estimates and interval estimates in statistics?\n",
        "ans>> ### **Point Estimate:**\n",
        "\n",
        "A **point estimate** is a **single value** used to estimate an unknown population parameter.\n",
        "\n",
        "* **Example**: The sample mean $\\bar{X}$ is a point estimate of the population mean $\\mu$.\n",
        "\n",
        "---\n",
        "\n",
        "### **Interval Estimate:**\n",
        "\n",
        "An **interval estimate** gives a **range of values** within which the population parameter is expected to lie, with a certain level of confidence.\n",
        "\n",
        "* **Example**: A 95% confidence interval for the mean might be $(48.5, 51.2)$, meaning we are 95% confident the true mean lies in this range.\n",
        "\n",
        "---\n",
        "\n",
        "### **Key Difference:**\n",
        "\n",
        "* Point estimate = single best guess\n",
        "* Interval estimate = range with a confidence level (e.g., 95%)\n"
      ],
      "metadata": {
        "id": "s2aZMmjd8LL-"
      }
    },
    {
      "cell_type": "markdown",
      "source": [
        "18. What is the significance of confidence intervals in statistical analysis?\n",
        "ans>> The **significance of confidence intervals** in statistical analysis lies in their ability to:\n",
        "\n",
        "1.**Estimate population parameters** – They provide a range that likely contains the true population value (e.g., mean, proportion).\n",
        "\n",
        "2.**Express uncertainty** – Unlike point estimates, confidence intervals show the **degree of uncertainty** in the estimate.\n",
        "\n",
        "3.**Support decision-making** – They help determine if results are statistically significant (e.g., if a confidence interval for a mean difference does not include 0, the difference is likely significant).\n",
        "\n",
        "4.**Provide context** – Confidence intervals give more information than just p-values by showing **how precise** an estimate is.\n",
        "\n",
        "### Example:\n",
        "\n",
        "A 95% confidence interval of (48.5, 51.2) for average test scores means:\n",
        "\"We are 95% confident that the true average score lies between 48.5 and 51.2.\"\n"
      ],
      "metadata": {
        "id": "29r1Aqsb8XNG"
      }
    },
    {
      "cell_type": "markdown",
      "source": [
        "19. What is the relationship between a Z-score and a confidence interval?\n",
        "ans>> The relationship between a **Z-score** and a **confidence interval** is that the Z-score determines the **critical value** used to calculate the confidence interval for a population parameter when the standard deviation is known.\n",
        "\n",
        "For example:\n",
        "\n",
        "* A **95% confidence interval** uses a **Z-score of 1.96**\n",
        "* A **99% confidence interval** uses a **Z-score of 2.576**\n",
        "\n",
        "**Formula:**\n",
        "\n",
        "$$\n",
        "\\text{Confidence Interval} = \\bar{X} \\pm Z \\times \\frac{\\sigma}{\\sqrt{n}}\n",
        "$$\n",
        "\n",
        "So, the Z-score defines how far the interval extends from the sample mean based on the desired confidence level.\n"
      ],
      "metadata": {
        "id": "-uPrz0R28oYv"
      }
    },
    {
      "cell_type": "markdown",
      "source": [
        "20. How are Z-scores used to compare different distributions?\n",
        "ans>> **Z-scores** are used to compare different distributions by **standardizing** values, allowing comparison across distributions with **different means and standard deviations**.\n",
        "\n",
        "### How it works:\n",
        "\n",
        "By converting raw scores into Z-scores using:\n",
        "\n",
        "$$\n",
        "Z = \\frac{X - \\mu}{\\sigma}\n",
        "$$\n",
        "\n",
        "you express each value in terms of how many **standard deviations** it is from its mean.\n",
        "\n",
        "### Why it's useful:\n",
        "\n",
        "* Enables **direct comparison** of scores from different scales (e.g., test scores, measurements).\n",
        "* Helps identify which value is relatively higher or lower in its own distribution.\n",
        "\n",
        "### Example:\n",
        "\n",
        "* Test A: Score = 85, Mean = 80, SD = 5 → $Z = 1$\n",
        "* Test B: Score = 90, Mean = 85, SD = 10 → $Z = 0.5$\n",
        "  → The score on Test A is **relatively better** despite being numerically lower.\n"
      ],
      "metadata": {
        "id": "U6i5IyK69NUH"
      }
    },
    {
      "cell_type": "markdown",
      "source": [
        "21. What are the assumptions for applying the Central Limit Theorem?\n",
        "ans>> The **assumptions for applying the Central Limit Theorem (CLT)** are:\n",
        "\n",
        "1.**Independence**: The samples must be **independent** of each other.\n",
        "2.**Identically Distributed**: Each sample is drawn from the **same population**.\n",
        "3.**Sample Size**:\n",
        "\n",
        "   * For non-normal populations, a **larger sample size** (typically $n \\geq 30$) is needed.\n",
        "   * If the population is normal, CLT applies **regardless of sample size**.\n",
        "4.**Finite Mean and Variance**: The population must have a **finite mean** $\\mu$ and **finite variance** $\\sigma^2$.\n",
        "\n",
        "These ensure that the **sampling distribution of the sample mean** will approximate a **normal distribution** as the sample size increases.\n"
      ],
      "metadata": {
        "id": "apy0Sm0m932n"
      }
    },
    {
      "cell_type": "markdown",
      "source": [
        "22. What is the concept of expected value in a probability distribution?\n",
        "ans>> The **expected value** in a probability distribution is the **long-run average** or **mean** value of a random variable over many trials.\n",
        "\n",
        "### For a **discrete** random variable:\n",
        "\n",
        "$$\n",
        "E(X) = \\sum [x_i \\cdot P(x_i)]\n",
        "$$\n",
        "\n",
        "Where $x_i$ are the possible values and $P(x_i)$ their probabilities.\n",
        "\n",
        "### For a **continuous** random variable:\n",
        "\n",
        "$$\n",
        "E(X) = \\int_{-\\infty}^{\\infty} x \\cdot f(x) \\, dx\n",
        "$$\n",
        "\n",
        "Where $f(x)$ is the probability density function.\n",
        "\n",
        "### Significance:\n",
        "\n",
        "It represents the **theoretical average outcome** and is used in decision-making, economics, insurance, and game theory.\n"
      ],
      "metadata": {
        "id": "fDOm__d5-Ewe"
      }
    },
    {
      "cell_type": "markdown",
      "source": [
        "23.  How does a probability distribution relate to the expected outcome of a random variable?\n",
        "ans>> The **expected value** in a probability distribution is the **long-run average** or **mean** value of a random variable over many trials.\n",
        "\n",
        "### For a **discrete** random variable:\n",
        "\n",
        "$$\n",
        "E(X) = \\sum [x_i \\cdot P(x_i)]\n",
        "$$\n",
        "\n",
        "Where $x_i$ are the possible values and $P(x_i)$ their probabilities.\n",
        "\n",
        "### For a **continuous** random variable:\n",
        "\n",
        "$$\n",
        "E(X) = \\int_{-\\infty}^{\\infty} x \\cdot f(x) \\, dx\n",
        "$$\n",
        "\n",
        "Where $f(x)$ is the probability density function.\n",
        "\n",
        "### Significance:\n",
        "\n",
        "It represents the **theoretical average outcome** and is used in decision-making, economics, insurance, and game theory.\n"
      ],
      "metadata": {
        "id": "lgaU0Vo4-OMN"
      }
    }
  ]
}